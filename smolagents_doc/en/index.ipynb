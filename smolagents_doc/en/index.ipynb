{
  "cells": [
    {
      "cell_type": "markdown",
      "metadata": {
        "id": "view-in-github",
        "colab_type": "text"
      },
      "source": [
        "<a href=\"https://colab.research.google.com/github/toddhaus/Big_John_LLM/blob/main/smolagents_doc/en/index.ipynb\" target=\"_parent\"><img src=\"https://colab.research.google.com/assets/colab-badge.svg\" alt=\"Open In Colab\"/></a>"
      ]
    },
    {
      "cell_type": "code",
      "execution_count": 1,
      "metadata": {
        "id": "I_juS9apVwgv",
        "colab": {
          "base_uri": "https://localhost:8080/"
        },
        "outputId": "c10581ad-8298-43b8-c14b-6196b903f506"
      },
      "outputs": [
        {
          "output_type": "stream",
          "name": "stdout",
          "text": [
            "Requirement already satisfied: smolagents in /usr/local/lib/python3.11/dist-packages (1.20.0.dev0)\n",
            "Requirement already satisfied: huggingface-hub>=0.31.2 in /usr/local/lib/python3.11/dist-packages (from smolagents) (0.33.1)\n",
            "Requirement already satisfied: requests>=2.32.3 in /usr/local/lib/python3.11/dist-packages (from smolagents) (2.32.3)\n",
            "Requirement already satisfied: rich>=13.9.4 in /usr/local/lib/python3.11/dist-packages (from smolagents) (13.9.4)\n",
            "Requirement already satisfied: jinja2>=3.1.4 in /usr/local/lib/python3.11/dist-packages (from smolagents) (3.1.6)\n",
            "Requirement already satisfied: pillow>=10.0.1 in /usr/local/lib/python3.11/dist-packages (from smolagents) (11.2.1)\n",
            "Requirement already satisfied: python-dotenv in /usr/local/lib/python3.11/dist-packages (from smolagents) (1.1.1)\n",
            "Requirement already satisfied: filelock in /usr/local/lib/python3.11/dist-packages (from huggingface-hub>=0.31.2->smolagents) (3.18.0)\n",
            "Requirement already satisfied: fsspec>=2023.5.0 in /usr/local/lib/python3.11/dist-packages (from huggingface-hub>=0.31.2->smolagents) (2025.3.2)\n",
            "Requirement already satisfied: packaging>=20.9 in /usr/local/lib/python3.11/dist-packages (from huggingface-hub>=0.31.2->smolagents) (24.2)\n",
            "Requirement already satisfied: pyyaml>=5.1 in /usr/local/lib/python3.11/dist-packages (from huggingface-hub>=0.31.2->smolagents) (6.0.2)\n",
            "Requirement already satisfied: tqdm>=4.42.1 in /usr/local/lib/python3.11/dist-packages (from huggingface-hub>=0.31.2->smolagents) (4.67.1)\n",
            "Requirement already satisfied: typing-extensions>=3.7.4.3 in /usr/local/lib/python3.11/dist-packages (from huggingface-hub>=0.31.2->smolagents) (4.14.0)\n",
            "Requirement already satisfied: hf-xet<2.0.0,>=1.1.2 in /usr/local/lib/python3.11/dist-packages (from huggingface-hub>=0.31.2->smolagents) (1.1.5)\n",
            "Requirement already satisfied: MarkupSafe>=2.0 in /usr/local/lib/python3.11/dist-packages (from jinja2>=3.1.4->smolagents) (3.0.2)\n",
            "Requirement already satisfied: charset-normalizer<4,>=2 in /usr/local/lib/python3.11/dist-packages (from requests>=2.32.3->smolagents) (3.4.2)\n",
            "Requirement already satisfied: idna<4,>=2.5 in /usr/local/lib/python3.11/dist-packages (from requests>=2.32.3->smolagents) (3.10)\n",
            "Requirement already satisfied: urllib3<3,>=1.21.1 in /usr/local/lib/python3.11/dist-packages (from requests>=2.32.3->smolagents) (2.4.0)\n",
            "Requirement already satisfied: certifi>=2017.4.17 in /usr/local/lib/python3.11/dist-packages (from requests>=2.32.3->smolagents) (2025.6.15)\n",
            "Requirement already satisfied: markdown-it-py>=2.2.0 in /usr/local/lib/python3.11/dist-packages (from rich>=13.9.4->smolagents) (3.0.0)\n",
            "Requirement already satisfied: pygments<3.0.0,>=2.13.0 in /usr/local/lib/python3.11/dist-packages (from rich>=13.9.4->smolagents) (2.19.2)\n",
            "Requirement already satisfied: mdurl~=0.1 in /usr/local/lib/python3.11/dist-packages (from markdown-it-py>=2.2.0->rich>=13.9.4->smolagents) (0.1.2)\n"
          ]
        }
      ],
      "source": [
        "# Installation\n",
        "! pip install smolagents\n",
        "# To install from source instead of the last release, comment the command above and uncomment the following one.\n",
        "# ! pip install git+https://github.com/huggingface/smolagents.git"
      ]
    },
    {
      "cell_type": "markdown",
      "metadata": {
        "id": "z6AZQBYyVwgy"
      },
      "source": [
        "# `smolagents`"
      ]
    },
    {
      "cell_type": "markdown",
      "metadata": {
        "id": "Jze7Gl4kVwgz"
      },
      "source": [
        "<div class=\"flex justify-center\">\n",
        "    <img src=\"https://huggingface.co/datasets/huggingface/documentation-images/resolve/main/smolagents/license_to_call.png\" style=\"max-width:700px\"/>\n",
        "</div>"
      ]
    },
    {
      "cell_type": "markdown",
      "metadata": {
        "id": "h_rrTNE8Vwg0"
      },
      "source": [
        "## What is smolagents?"
      ]
    },
    {
      "cell_type": "markdown",
      "metadata": {
        "id": "kkOTqv6AVwg0"
      },
      "source": [
        "`smolagents` is an open-source Python library designed to make it extremely easy to build and run agents using just a few lines of code.\n",
        "\n",
        "Key features of `smolagents` include:\n",
        "\n",
        "✨ **Simplicity**: The logic for agents fits in ~thousand lines of code. We kept abstractions to their minimal shape above raw code!\n",
        "\n",
        "🧑‍💻 **First-class support for Code Agents**: [`CodeAgent`](https://huggingface.co/docs/smolagents/main/en/reference/agents#smolagents.CodeAgent) writes its actions in code (as opposed to \"agents being used to write code\") to invoke tools or perform computations, enabling natural composability (function nesting, loops, conditionals). To make it secure, we support [executing in sandboxed environment](https://huggingface.co/docs/smolagents/main/en/tutorials/secure_code_execution) via [E2B](https://e2b.dev/) or via Docker.\n",
        "\n",
        "📡 **Common Tool-Calling Agent Support**: In addition to CodeAgents, [`ToolCallingAgent`](https://huggingface.co/docs/smolagents/main/en/reference/agents#smolagents.ToolCallingAgent) supports usual JSON/text-based tool-calling for scenarios where that paradigm is preferred.\n",
        "\n",
        "🤗 **Hub integrations**: Seamlessly share and load agents and tools to/from the Hub as Gradio Spaces.\n",
        "\n",
        "🌐 **Model-agnostic**: Easily integrate any large language model (LLM), whether it's hosted on the Hub via [Inference providers](https://huggingface.co/docs/inference-providers/index), accessed via APIs such as OpenAI, Anthropic, or many others via LiteLLM integration, or run locally using Transformers or Ollama. Powering an agent with your preferred LLM is straightforward and flexible.\n",
        "\n",
        "👁️ **Modality-agnostic**: Beyond text, agents can handle vision, video, and audio inputs, broadening the range of possible applications. Check out [this tutorial](https://huggingface.co/docs/smolagents/main/en/examples/web_browser) for vision.\n",
        "\n",
        "🛠️ **Tool-agnostic**: You can use tools from any [MCP server](https://huggingface.co/docs/smolagents/main/en/reference/tools#smolagents.ToolCollection.from_mcp), from [LangChain](https://huggingface.co/docs/smolagents/main/en/reference/tools#smolagents.Tool.from_langchain), you can even use a [Hub Space](https://huggingface.co/docs/smolagents/main/en/reference/tools#smolagents.Tool.from_space) as a tool.\n",
        "\n",
        "💻 **CLI Tools**: Comes with command-line utilities (smolagent, webagent) for quickly running agents without writing boilerplate code."
      ]
    },
    {
      "cell_type": "markdown",
      "metadata": {
        "id": "lzm8jYCoVwg1"
      },
      "source": [
        "## Quickstart"
      ]
    },
    {
      "cell_type": "markdown",
      "metadata": {
        "id": "ZgV8920ZVwg1"
      },
      "source": [
        "Get started with smolagents in just a few minutes! This guide will show you how to create and run your first agent."
      ]
    },
    {
      "cell_type": "markdown",
      "metadata": {
        "id": "96NO8DCSVwg1"
      },
      "source": [
        "### Installation"
      ]
    },
    {
      "cell_type": "markdown",
      "metadata": {
        "id": "qBuhBZx_Vwg1"
      },
      "source": [
        "Install smolagents with pip:\n",
        "\n",
        "```bash\n",
        "pip install smolagents[toolkit]  # Includes default tools like web search\n",
        "```"
      ]
    },
    {
      "cell_type": "markdown",
      "metadata": {
        "id": "g_KHOakgVwg2"
      },
      "source": [
        "### Create Your First Agent"
      ]
    },
    {
      "cell_type": "markdown",
      "metadata": {
        "id": "irN6DQj6Vwg2"
      },
      "source": [
        "Here's a minimal example to create and run an agent:"
      ]
    },
    {
      "cell_type": "code",
      "execution_count": null,
      "metadata": {
        "id": "92q7iG3gVwg2"
      },
      "outputs": [],
      "source": [
        "from smolagents import CodeAgent, InferenceClientModel\n",
        "\n",
        "# Initialize a model (using Hugging Face Inference API)\n",
        "model = InferenceClientModel()  # Uses a default model\n",
        "\n",
        "# Create an agent with no tools\n",
        "agent = CodeAgent(tools=[], model=model)\n",
        "\n",
        "# Run the agent with a task\n",
        "result = agent.run(\"Calculate the sum of numbers from 1 to 10\")\n",
        "print(result)"
      ]
    },
    {
      "cell_type": "markdown",
      "metadata": {
        "id": "uv2_UcMzVwg2"
      },
      "source": [
        "That's it! Your agent will use Python code to solve the task and return the result."
      ]
    },
    {
      "cell_type": "markdown",
      "metadata": {
        "id": "fVb7h_sDVwg2"
      },
      "source": [
        "### Adding Tools"
      ]
    },
    {
      "cell_type": "markdown",
      "metadata": {
        "id": "0cUtJzY1Vwg2"
      },
      "source": [
        "Let's make our agent more capable by adding some tools:"
      ]
    },
    {
      "cell_type": "code",
      "execution_count": null,
      "metadata": {
        "id": "_pxV2VtSVwg2"
      },
      "outputs": [],
      "source": [
        "from smolagents import CodeAgent, InferenceClientModel, DuckDuckGoSearchTool\n",
        "\n",
        "model = InferenceClientModel()\n",
        "agent = CodeAgent(\n",
        "    tools=[DuckDuckGoSearchTool()],\n",
        "    model=model,\n",
        ")\n",
        "\n",
        "# Now the agent can search the web!\n",
        "result = agent.run(\"What is the current weather in Paris?\")\n",
        "print(result)"
      ]
    },
    {
      "cell_type": "markdown",
      "metadata": {
        "id": "ZLJWoKMTVwg3"
      },
      "source": [
        "### Using Different Models"
      ]
    },
    {
      "cell_type": "markdown",
      "metadata": {
        "id": "1_fA72MSVwg3"
      },
      "source": [
        "You can use various models with your agent:"
      ]
    },
    {
      "cell_type": "code",
      "execution_count": null,
      "metadata": {
        "id": "7sn1bgN7Vwg3"
      },
      "outputs": [],
      "source": [
        "# Using a specific model from Hugging Face\n",
        "model = InferenceClientModel(model_id=\"meta-llama/Llama-2-70b-chat-hf\")\n",
        "\n",
        "# Using OpenAI/Anthropic (requires smolagents[litellm])\n",
        "from smolagents import LiteLLMModel\n",
        "model = LiteLLMModel(model_id=\"gpt-4\")\n",
        "\n",
        "# Using local models (requires smolagents[transformers])\n",
        "from smolagents import TransformersModel\n",
        "model = TransformersModel(model_id=\"meta-llama/Llama-2-7b-chat-hf\")"
      ]
    },
    {
      "cell_type": "markdown",
      "metadata": {
        "id": "UBjPtxpIVwg3"
      },
      "source": [
        "## Next Steps"
      ]
    },
    {
      "cell_type": "markdown",
      "metadata": {
        "id": "3Gs_PbwqVwg3"
      },
      "source": [
        "- Learn how to set up smolagents with various models and tools in the [Installation Guide](https://huggingface.co/docs/smolagents/main/en/installation)\n",
        "- Check out the [Guided Tour](https://huggingface.co/docs/smolagents/main/en/guided_tour) for more advanced features\n",
        "- Learn about [building custom tools](https://huggingface.co/docs/smolagents/main/en/tutorials/tools)\n",
        "- Explore [secure code execution](https://huggingface.co/docs/smolagents/main/en/tutorials/secure_code_execution)\n",
        "- See how to create [multi-agent systems](https://huggingface.co/docs/smolagents/main/en/tutorials/building_good_agents)\n",
        "\n",
        "<div class=\"mt-10\">\n",
        "  <div class=\"w-full flex flex-col space-y-4 md:space-y-0 md:grid md:grid-cols-2 md:gap-y-4 md:gap-x-5\">\n",
        "    <a class=\"!no-underline border dark:border-gray-700 p-5 rounded-lg shadow hover:shadow-lg\" href=\"./guided_tour\"\n",
        "      ><div class=\"w-full text-center bg-gradient-to-br from-blue-400 to-blue-500 rounded-lg py-1.5 font-semibold mb-5 text-white text-lg leading-relaxed\">Guided tour</div>\n",
        "      <p class=\"text-gray-700\">Learn the basics and become familiar with using Agents. Start here if you are using Agents for the first time!</p>\n",
        "    </a>\n",
        "    <a class=\"!no-underline border dark:border-gray-700 p-5 rounded-lg shadow hover:shadow-lg\" href=\"./examples/text_to_sql\"\n",
        "      ><div class=\"w-full text-center bg-gradient-to-br from-indigo-400 to-indigo-500 rounded-lg py-1.5 font-semibold mb-5 text-white text-lg leading-relaxed\">How-to guides</div>\n",
        "      <p class=\"text-gray-700\">Practical guides to help you achieve a specific goal: create an agent to generate and test SQL queries!</p>\n",
        "    </a>\n",
        "    <a class=\"!no-underline border dark:border-gray-700 p-5 rounded-lg shadow hover:shadow-lg\" href=\"./conceptual_guides/intro_agents\"\n",
        "      ><div class=\"w-full text-center bg-gradient-to-br from-pink-400 to-pink-500 rounded-lg py-1.5 font-semibold mb-5 text-white text-lg leading-relaxed\">Conceptual guides</div>\n",
        "      <p class=\"text-gray-700\">High-level explanations for building a better understanding of important topics.</p>\n",
        "   </a>\n",
        "    <a class=\"!no-underline border dark:border-gray-700 p-5 rounded-lg shadow hover:shadow-lg\" href=\"./tutorials/building_good_agents\"\n",
        "      ><div class=\"w-full text-center bg-gradient-to-br from-purple-400 to-purple-500 rounded-lg py-1.5 font-semibold mb-5 text-white text-lg leading-relaxed\">Tutorials</div>\n",
        "      <p class=\"text-gray-700\">Horizontal tutorials that cover important aspects of building agents.</p>\n",
        "    </a>\n",
        "  </div>\n",
        "</div>"
      ]
    }
  ],
  "metadata": {
    "colab": {
      "provenance": [],
      "include_colab_link": true
    },
    "language_info": {
      "name": "python"
    },
    "kernelspec": {
      "name": "python3",
      "display_name": "Python 3"
    }
  },
  "nbformat": 4,
  "nbformat_minor": 0
}